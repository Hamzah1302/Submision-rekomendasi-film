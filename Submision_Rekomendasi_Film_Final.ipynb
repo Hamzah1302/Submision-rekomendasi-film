{
  "nbformat": 4,
  "nbformat_minor": 0,
  "metadata": {
    "colab": {
      "provenance": []
    },
    "kernelspec": {
      "name": "python3",
      "display_name": "Python 3"
    },
    "language_info": {
      "name": "python"
    }
  },
  "cells": [
    {
      "cell_type": "markdown",
      "source": [
        "\n",
        "\"\"\"\n",
        "Submission Rekomendasi Film - Diperbaiki\n",
        "Proyek Sistem Rekomendasi Film dengan Content-Based dan Collaborative Filtering\n",
        "\"\"\""
      ],
      "metadata": {
        "id": "hO-MB5WlErLL"
      }
    },
    {
      "cell_type": "code",
      "source": [
        "# 1. Uninstall numpy versi baru\n",
        "!pip uninstall -y numpy\n",
        "\n",
        "# 2. Install numpy versi kompatibel\n",
        "!pip install numpy==1.26.4\n",
        "\n",
        "# 3. Install scikit-surprise\n",
        "!pip install scikit-surprise"
      ],
      "metadata": {
        "colab": {
          "base_uri": "https://localhost:8080/"
        },
        "id": "jMa4q4o0FERs",
        "outputId": "d8ad7570-8165-43dc-b25c-5fdb523db034"
      },
      "execution_count": 4,
      "outputs": [
        {
          "output_type": "stream",
          "name": "stdout",
          "text": [
            "Found existing installation: numpy 2.0.2\n",
            "Uninstalling numpy-2.0.2:\n",
            "  Successfully uninstalled numpy-2.0.2\n",
            "Collecting numpy==1.26.4\n",
            "  Downloading numpy-1.26.4-cp311-cp311-manylinux_2_17_x86_64.manylinux2014_x86_64.whl.metadata (61 kB)\n",
            "\u001b[2K     \u001b[90m━━━━━━━━━━━━━━━━━━━━━━━━━━━━━━━━━━━━━━━━\u001b[0m \u001b[32m61.0/61.0 kB\u001b[0m \u001b[31m2.5 MB/s\u001b[0m eta \u001b[36m0:00:00\u001b[0m\n",
            "\u001b[?25hDownloading numpy-1.26.4-cp311-cp311-manylinux_2_17_x86_64.manylinux2014_x86_64.whl (18.3 MB)\n",
            "\u001b[2K   \u001b[90m━━━━━━━━━━━━━━━━━━━━━━━━━━━━━━━━━━━━━━━━\u001b[0m \u001b[32m18.3/18.3 MB\u001b[0m \u001b[31m77.3 MB/s\u001b[0m eta \u001b[36m0:00:00\u001b[0m\n",
            "\u001b[?25hInstalling collected packages: numpy\n",
            "\u001b[31mERROR: pip's dependency resolver does not currently take into account all the packages that are installed. This behaviour is the source of the following dependency conflicts.\n",
            "thinc 8.3.6 requires numpy<3.0.0,>=2.0.0, but you have numpy 1.26.4 which is incompatible.\u001b[0m\u001b[31m\n",
            "\u001b[0mSuccessfully installed numpy-1.26.4\n",
            "Requirement already satisfied: scikit-surprise in /usr/local/lib/python3.11/dist-packages (1.1.4)\n",
            "Requirement already satisfied: joblib>=1.2.0 in /usr/local/lib/python3.11/dist-packages (from scikit-surprise) (1.5.0)\n",
            "Requirement already satisfied: numpy>=1.19.5 in /usr/local/lib/python3.11/dist-packages (from scikit-surprise) (1.26.4)\n",
            "Requirement already satisfied: scipy>=1.6.0 in /usr/local/lib/python3.11/dist-packages (from scikit-surprise) (1.15.3)\n"
          ]
        }
      ]
    },
    {
      "cell_type": "markdown",
      "source": [
        "# **Import Library**"
      ],
      "metadata": {
        "id": "Orvb2S7KK1zM"
      }
    },
    {
      "cell_type": "markdown",
      "source": [
        "Tahap pertama adalah mengimpor semua library yang kita perlukan. Ini termasuk pandas untuk manipulasi data, numpy untuk operasi numerik, scikit-learn untuk Content-Based Filtering, dan surprise untuk Collaborative Filtering"
      ],
      "metadata": {
        "id": "pt2OaPp9K4tz"
      }
    },
    {
      "cell_type": "code",
      "source": [
        "import pandas as pd\n",
        "import numpy as np\n",
        "from sklearn.feature_extraction.text import TfidfVectorizer\n",
        "from sklearn.metrics.pairwise import cosine_similarity\n",
        "from surprise import Reader, Dataset, SVD, accuracy\n",
        "from surprise.model_selection import train_test_split\n",
        "import matplotlib.pyplot as plt\n",
        "import seaborn as sns\n",
        "from collections import defaultdict\n",
        "\n",
        "print(\"Libraries imported successfully!\")\n",
        "\n"
      ],
      "metadata": {
        "colab": {
          "base_uri": "https://localhost:8080/"
        },
        "id": "C7MF6r25EpHJ",
        "outputId": "bb822648-d8a8-4628-aa2b-6722839d5162"
      },
      "execution_count": 1,
      "outputs": [
        {
          "output_type": "stream",
          "name": "stdout",
          "text": [
            "Libraries imported successfully!\n"
          ]
        }
      ]
    },
    {
      "cell_type": "markdown",
      "source": [
        "# **1. DATA LOADING**\n",
        "\n"
      ],
      "metadata": {
        "id": "xDh-qmsIExP4"
      }
    },
    {
      "cell_type": "markdown",
      "source": [
        "Dataset MovieLens dimuat ke dalam DataFrame pandas. Dataset ini terdiri dari beberapa file CSV:                         \n",
        "- `ratings.csv`: Berisi informasi rating film oleh pengguna.,\n",
        "- `movies.csv`: Berisi informasi detail film seperti judul dan genre,\n",
        "- `tags.csv`: Berisi tag yang diberikan pengguna untuk film.\""
      ],
      "metadata": {
        "id": "DSPwSh7oK-hD"
      }
    },
    {
      "cell_type": "code",
      "source": [
        "\n",
        "print(\"\\n--- Data Loading ---\")\n",
        "ratings_path = 'ratings.csv'\n",
        "movies_path = 'movies.csv'\n",
        "tags_path = 'tags.csv'\n",
        "\n",
        "try:\n",
        "    ratings = pd.read_csv(ratings_path)\n",
        "    movies = pd.read_csv(movies_path)\n",
        "    tags = pd.read_csv(tags_path)\n",
        "    print(\"Datasets loaded successfully!\")\n",
        "except FileNotFoundError:\n",
        "    print(\"Error: Pastikan file CSV ada di direktori yang sama atau ganti path-nya.\")\n",
        "    exit()"
      ],
      "metadata": {
        "colab": {
          "base_uri": "https://localhost:8080/"
        },
        "id": "dAOi97aOEqu5",
        "outputId": "79377a4d-94eb-4e4c-fa39-ce35aa0e2d1c"
      },
      "execution_count": 2,
      "outputs": [
        {
          "output_type": "stream",
          "name": "stdout",
          "text": [
            "\n",
            "--- Data Loading ---\n",
            "Datasets loaded successfully!\n"
          ]
        }
      ]
    },
    {
      "cell_type": "markdown",
      "source": [
        "\n",
        "# **2. DATA UNDERSTANDING (EDA)**\n"
      ],
      "metadata": {
        "id": "7xkC2PwRFS4p"
      }
    },
    {
      "cell_type": "markdown",
      "source": [
        "Pada tahap ini, dilakukan *Exploratory Data Analysis* (EDA) untuk memperoleh pemahaman yang lebih mendalam mengenai struktur, isi, dan karakteristik dataset.\n",
        "\n",
        "Langkah-langkah EDA yang dilakukan antara lain:\n",
        "\n",
        "- Menampilkan beberapa baris pertama dari setiap DataFrame menggunakan `head()`.\n",
        "- Menampilkan informasi ringkas tentang DataFrame, termasuk tipe data dan jumlah nilai non-null dengan `info()`.\n",
        "- Menghitung statistik dasar seperti jumlah pengguna unik, jumlah film unik, dan jumlah total rating.\n",
        "- Membuat visualisasi distribusi rating untuk memahami kecenderungan pengguna dalam memberikan rating.\n",
        "- Membuat visualisasi jumlah film per genre untuk mengidentifikasi genre yang paling dominan dalam dataset.\n",
        "\n",
        "###**Menampilkan 5 Baris Pertama dari Setiap DataFrame**\n",
        "\n",
        "- **Movies Data Head**:\n",
        "  Menampilkan lima baris pertama dari dataset `movies`.\n",
        "\n",
        "- **Ratings Data Head**:\n",
        "  Menampilkan lima baris pertama dari dataset `ratings`.\n",
        "\n",
        "- **Tags Data Head**:\n",
        "  Menampilkan lima baris pertama dari dataset `tags`.\n",
        "\"\"\"\n"
      ],
      "metadata": {
        "id": "IN0Z6fOBLEOj"
      }
    },
    {
      "cell_type": "markdown",
      "source": [
        "### **Menampilkan Informasi Struktur Dataset**\n",
        "\n",
        "Menggunakan fungsi `.info()` untuk melihat tipe data dan jumlah nilai non-null pada:\n",
        "- Dataset `movies`\n",
        "- Dataset `ratings`\n",
        "- Dataset `tags`\n",
        "\n"
      ],
      "metadata": {
        "id": "VxM-XXVScC1N"
      }
    },
    {
      "cell_type": "code",
      "source": [
        "print(\"\\n--- Starting Data Understanding (EDA) ---\")\n",
        "\n",
        "# Menampilkan 5 baris pertama\n",
        "print(\"\\nMovies Data Head:\")\n",
        "print(movies.head())\n",
        "print(\"\\nRatings Data Head:\")\n",
        "print(ratings.head())\n",
        "print(\"\\nTags Data Head:\")\n",
        "print(tags.head())\n",
        "\n",
        "# Menampilkan Info Dataset\n",
        "print(\"\\nInfo Movies:\")\n",
        "movies.info()\n",
        "print(\"\\nInfo Ratings:\")\n",
        "ratings.info()\n",
        "print(\"\\nInfo Tags:\")\n",
        "tags.info()\n",
        "\n"
      ],
      "metadata": {
        "colab": {
          "base_uri": "https://localhost:8080/"
        },
        "id": "MHY88TaaElbD",
        "outputId": "de778c1e-005e-4720-ef70-00f8d39afbce"
      },
      "execution_count": 3,
      "outputs": [
        {
          "output_type": "stream",
          "name": "stdout",
          "text": [
            "\n",
            "--- Starting Data Understanding (EDA) ---\n",
            "\n",
            "Movies Data Head:\n",
            "   movieId                               title  \\\n",
            "0        1                    Toy Story (1995)   \n",
            "1        2                      Jumanji (1995)   \n",
            "2        3             Grumpier Old Men (1995)   \n",
            "3        4            Waiting to Exhale (1995)   \n",
            "4        5  Father of the Bride Part II (1995)   \n",
            "\n",
            "                                        genres  \n",
            "0  Adventure|Animation|Children|Comedy|Fantasy  \n",
            "1                   Adventure|Children|Fantasy  \n",
            "2                               Comedy|Romance  \n",
            "3                         Comedy|Drama|Romance  \n",
            "4                                       Comedy  \n",
            "\n",
            "Ratings Data Head:\n",
            "   userId  movieId  rating  timestamp\n",
            "0       1        1     4.0  964982703\n",
            "1       1        3     4.0  964981247\n",
            "2       1        6     4.0  964982224\n",
            "3       1       47     5.0  964983815\n",
            "4       1       50     5.0  964982931\n",
            "\n",
            "Tags Data Head:\n",
            "   userId  movieId              tag   timestamp\n",
            "0       2    60756            funny  1445714994\n",
            "1       2    60756  Highly quotable  1445714996\n",
            "2       2    60756     will ferrell  1445714992\n",
            "3       2    89774     Boxing story  1445715207\n",
            "4       2    89774              MMA  1445715200\n",
            "\n",
            "Info Movies:\n",
            "<class 'pandas.core.frame.DataFrame'>\n",
            "RangeIndex: 9742 entries, 0 to 9741\n",
            "Data columns (total 3 columns):\n",
            " #   Column   Non-Null Count  Dtype \n",
            "---  ------   --------------  ----- \n",
            " 0   movieId  9742 non-null   int64 \n",
            " 1   title    9742 non-null   object\n",
            " 2   genres   9742 non-null   object\n",
            "dtypes: int64(1), object(2)\n",
            "memory usage: 228.5+ KB\n",
            "\n",
            "Info Ratings:\n",
            "<class 'pandas.core.frame.DataFrame'>\n",
            "RangeIndex: 100836 entries, 0 to 100835\n",
            "Data columns (total 4 columns):\n",
            " #   Column     Non-Null Count   Dtype  \n",
            "---  ------     --------------   -----  \n",
            " 0   userId     100836 non-null  int64  \n",
            " 1   movieId    100836 non-null  int64  \n",
            " 2   rating     100836 non-null  float64\n",
            " 3   timestamp  100836 non-null  int64  \n",
            "dtypes: float64(1), int64(3)\n",
            "memory usage: 3.1 MB\n",
            "\n",
            "Info Tags:\n",
            "<class 'pandas.core.frame.DataFrame'>\n",
            "RangeIndex: 3683 entries, 0 to 3682\n",
            "Data columns (total 4 columns):\n",
            " #   Column     Non-Null Count  Dtype \n",
            "---  ------     --------------  ----- \n",
            " 0   userId     3683 non-null   int64 \n",
            " 1   movieId    3683 non-null   int64 \n",
            " 2   tag        3683 non-null   object\n",
            " 3   timestamp  3683 non-null   int64 \n",
            "dtypes: int64(3), object(1)\n",
            "memory usage: 115.2+ KB\n"
          ]
        }
      ]
    },
    {
      "cell_type": "markdown",
      "source": [
        "### **Statistik Dasar Dataset**\n",
        "\n",
        "Beberapa informasi statistik dasar yang dihitung:\n",
        "- Jumlah pengguna unik (`userId`)\n",
        "- Jumlah film unik yang dirating (`movieId` di `ratings`)\n",
        "- Jumlah film unik secara keseluruhan (`movieId` di `movies`)\n",
        "- Jumlah total rating"
      ],
      "metadata": {
        "id": "qP1iWkcycN1y"
      }
    },
    {
      "cell_type": "code",
      "source": [
        "\n",
        "# Statistik Dasar\n",
        "n_users = ratings['userId'].nunique()\n",
        "n_movies_rated = ratings['movieId'].nunique()\n",
        "n_movies_total = movies['movieId'].nunique()\n",
        "n_ratings = len(ratings)\n",
        "\n",
        "print(f\"\\nJumlah pengguna unik: {n_users}\")\n",
        "print(f\"Jumlah film unik di ratings: {n_movies_rated}\")\n",
        "print(f\"Jumlah film unik di movies: {n_movies_total}\")\n",
        "print(f\"Jumlah rating: {n_ratings}\")\n"
      ],
      "metadata": {
        "colab": {
          "base_uri": "https://localhost:8080/"
        },
        "id": "85J1vBYVFkyz",
        "outputId": "28f82824-0165-4a51-feeb-e03e66b4f2bf"
      },
      "execution_count": 4,
      "outputs": [
        {
          "output_type": "stream",
          "name": "stdout",
          "text": [
            "\n",
            "Jumlah pengguna unik: 610\n",
            "Jumlah film unik di ratings: 9724\n",
            "Jumlah film unik di movies: 9742\n",
            "Jumlah rating: 100836\n"
          ]
        }
      ]
    },
    {
      "cell_type": "markdown",
      "source": [
        "### **Visualisasi Distribusi Rating**\n",
        "\n",
        "Visualisasi ini menunjukkan distribusi rating yang diberikan pengguna terhadap film, menggunakan `countplot` dari seaborn.\n",
        "\n",
        "- X-axis: Nilai rating\n",
        "- Y-axis: Jumlah rating yang diberikan\n",
        "- Warna: Skema `viridis`"
      ],
      "metadata": {
        "id": "ocv0oAWwcW1E"
      }
    },
    {
      "cell_type": "code",
      "source": [
        "\n",
        "# Menggabungkan data HANYA untuk tujuan EDA (visualisasi)\n",
        "df_eda = pd.merge(ratings, movies, on='movieId', how='left')\n",
        "\n",
        "# Distribusi Rating\n",
        "plt.figure(figsize=(8, 5))\n",
        "sns.countplot(x='rating', data=df_eda, palette='viridis')\n",
        "plt.title('Distribusi Rating Film')\n",
        "plt.xlabel('Rating')\n",
        "plt.ylabel('Jumlah')\n",
        "plt.show()\n"
      ],
      "metadata": {
        "colab": {
          "base_uri": "https://localhost:8080/",
          "height": 594
        },
        "id": "s3HGFYYVGALM",
        "outputId": "c1b27ab8-be49-44d6-9391-c2643a01debb"
      },
      "execution_count": 5,
      "outputs": [
        {
          "output_type": "stream",
          "name": "stderr",
          "text": [
            "<ipython-input-5-63e8d7474059>:6: FutureWarning: \n",
            "\n",
            "Passing `palette` without assigning `hue` is deprecated and will be removed in v0.14.0. Assign the `x` variable to `hue` and set `legend=False` for the same effect.\n",
            "\n",
            "  sns.countplot(x='rating', data=df_eda, palette='viridis')\n"
          ]
        },
        {
          "output_type": "display_data",
          "data": {
            "text/plain": [
              "<Figure size 800x500 with 1 Axes>"
            ],
            "image/png": "[encoded data removed]"
          },
          "metadata": {}
        }
      ]
    },
    {
      "cell_type": "markdown",
      "source": [
        "### **Visualisasi Jumlah Film per Genre**\n",
        "\n",
        "Langkah-langkah:\n",
        "- Genre film dari kolom `genres` dipecah berdasarkan tanda `|`.\n",
        "- Kemudian dihitung frekuensi kemunculan setiap genre.\n",
        "- Data divisualisasikan menggunakan `barplot`.\n",
        "\n",
        "- X-axis: Jumlah film\n",
        "- Y-axis: Nama genre\n",
        "- Ukuran plot: 10x6 inci"
      ],
      "metadata": {
        "id": "GDdwe8dMciL9"
      }
    },
    {
      "cell_type": "code",
      "source": [
        "\n",
        "# Pisahkan genre per film dan ubah jadi daftar\n",
        "all_genres = movies['genres'].str.split('|').explode()\n",
        "genre_counts = all_genres.value_counts()\n",
        "\n",
        "# Visualisasi\n",
        "plt.figure(figsize=(10,6))\n",
        "sns.barplot(x=genre_counts.values, y=genre_counts.index)\n",
        "plt.title('Jumlah Film per Genre')\n",
        "plt.xlabel('Jumlah Film')\n",
        "plt.ylabel('Genre')\n",
        "plt.show()\n",
        "\n",
        "print(\"--- EDA Complete ---\")"
      ],
      "metadata": {
        "colab": {
          "base_uri": "https://localhost:8080/",
          "height": 530
        },
        "id": "A6tje1WDGDq6",
        "outputId": "a3b759bd-25aa-4595-b2bf-0c9cfe58d534"
      },
      "execution_count": 6,
      "outputs": [
        {
          "output_type": "display_data",
          "data": {
            "text/plain": [
              "<Figure size 1000x600 with 1 Axes>"
            ],
            "image/png": "[encoded data removed]"
          },
          "metadata": {}
        },
        {
          "output_type": "stream",
          "name": "stdout",
          "text": [
            "--- EDA Complete ---\n"
          ]
        }
      ]
    },
    {
      "cell_type": "markdown",
      "source": [
        "\"\"\"EDA memberikan gambaran umum yang penting sebelum masuk ke tahap preprocessing dan pemodelan. Tahap ini selesai dengan informasi lengkap mengenai struktur, distribusi, dan karakteristik data\n",
        "\n",
        "\n",
        "\n",
        "\n"
      ],
      "metadata": {
        "id": "-Hwk2YiicuUf"
      }
    },
    {
      "cell_type": "markdown",
      "source": [
        "\n",
        "\n",
        "# **3. DATA PREPARATION**\n"
      ],
      "metadata": {
        "id": "6lv9Tuc7GH7Z"
      }
    },
    {
      "cell_type": "markdown",
      "source": [
        "Tahap ini bertujuan untuk menyiapkan data mentah agar sesuai dan optimal digunakan dalam pemodelan *machine learning*, baik untuk *content-based* maupun *collaborative filtering*."
      ],
      "metadata": {
        "id": "_EQXWuZhaS2n"
      }
    },
    {
      "cell_type": "markdown",
      "source": [
        "## **3.1. Memproses Tags**"
      ],
      "metadata": {
        "id": "RPLWbuYjGO8y"
      }
    },
    {
      "cell_type": "markdown",
      "source": [
        "1. **Memproses Tags**\n",
        "   - Semua teks tag diubah menjadi huruf kecil untuk konsistensi.\n",
        "   - Baris yang memiliki tag kosong dihapus.\n",
        "   - Semua tag yang diberikan oleh pengguna pada film yang sama digabungkan menjadi satu string per `movieId`."
      ],
      "metadata": {
        "id": "-yF724Zic7LE"
      }
    },
    {
      "cell_type": "code",
      "source": [
        "print(\"\\n--- Starting Data Preparation ---\")\n",
        "\n",
        "\n",
        "print(\"Processing tags...\")\n",
        "tags['tag'] = tags['tag'].str.lower()\n",
        "tags_agg = tags.dropna(subset=['tag']).groupby('movieId')['tag'].apply(lambda x: ' '.join(x)).reset_index()"
      ],
      "metadata": {
        "colab": {
          "base_uri": "https://localhost:8080/"
        },
        "id": "rHk2QITUGNOi",
        "outputId": "be6986a1-5726-4fea-b4ad-c9a17f419925"
      },
      "execution_count": 7,
      "outputs": [
        {
          "output_type": "stream",
          "name": "stdout",
          "text": [
            "\n",
            "--- Starting Data Preparation ---\n",
            "Processing tags...\n"
          ]
        }
      ]
    },
    {
      "cell_type": "markdown",
      "source": [
        "## **3.2. Membuat DataFrame 'movies_enhanced' (Gabungan Movies & Tags)**"
      ],
      "metadata": {
        "id": "eB70m1r-GU5o"
      }
    },
    {
      "cell_type": "markdown",
      "source": [
        "2. **Menggabungkan Data Movies dan Tags**\n",
        "   - Dataset `movies` digabungkan dengan hasil agregasi tag berdasarkan `movieId`.\n",
        "   - Jika sebuah film tidak memiliki tag, maka kolom tag akan diisi dengan string kosong (`''`).\n",
        "   - Dataset hasil penggabungan disebut `movies_enhanced`.\n"
      ],
      "metadata": {
        "id": "0JQqWAEjdD6c"
      }
    },
    {
      "cell_type": "code",
      "source": [
        "\n",
        "print(\"Merging movies and tags...\")\n",
        "movies_enhanced = pd.merge(movies, tags_agg, on='movieId', how='left')\n",
        "movies_enhanced['tag'] = movies_enhanced['tag'].fillna('')"
      ],
      "metadata": {
        "colab": {
          "base_uri": "https://localhost:8080/"
        },
        "id": "8V2tsHMfGUjK",
        "outputId": "657a68ac-cb50-4b85-d822-0e15b957c8de"
      },
      "execution_count": 8,
      "outputs": [
        {
          "output_type": "stream",
          "name": "stdout",
          "text": [
            "Merging movies and tags...\n"
          ]
        }
      ]
    },
    {
      "cell_type": "markdown",
      "source": [
        "## **3.3. Membuat Fitur Gabungan ('Soup') untuk Content-Based**"
      ],
      "metadata": {
        "id": "6JwQtBWKGbVx"
      }
    },
    {
      "cell_type": "markdown",
      "source": [
        "3. **Membuat Fitur Gabungan ('Soup') untuk *Content-Based Filtering***\n",
        "   - Genre diformat ulang: karakter pemisah `|` diganti dengan spasi.\n",
        "   - Genre yang telah diformat dan tag yang telah diproses digabungkan menjadi satu string dalam kolom baru bernama `soup`.\n",
        "   - Nilai kosong diisi dengan string kosong, dan spasi berlebih dihilangkan.\n",
        "   - Fitur ini digunakan untuk analisis berbasis konten."
      ],
      "metadata": {
        "id": "jihf1pzjdLpG"
      }
    },
    {
      "cell_type": "code",
      "source": [
        "\n",
        "print(\"Creating 'soup' feature...\")\n",
        "movies_enhanced['genres_processed'] = movies_enhanced['genres'].str.replace('|', ' ', regex=False)\n",
        "movies_enhanced['soup'] = movies_enhanced['genres_processed'] + ' ' + movies_enhanced['tag']\n",
        "movies_enhanced['soup'] = movies_enhanced['soup'].fillna('').str.strip()"
      ],
      "metadata": {
        "colab": {
          "base_uri": "https://localhost:8080/"
        },
        "id": "3ZWiwzilGbCJ",
        "outputId": "d5299bb5-1e1a-4787-a744-5385b59076b1"
      },
      "execution_count": 9,
      "outputs": [
        {
          "output_type": "stream",
          "name": "stdout",
          "text": [
            "Creating 'soup' feature...\n"
          ]
        }
      ]
    },
    {
      "cell_type": "markdown",
      "source": [
        "## **3.4. Membuat DataFrame Final untuk Content-Based (dengan index)**"
      ],
      "metadata": {
        "id": "_B5SxL4vGk2J"
      }
    },
    {
      "cell_type": "markdown",
      "source": [
        "4. **Membuat DataFrame Final untuk *Content-Based Filtering***\n",
        "   - Duplikasi berdasarkan `movieId` dihapus.\n",
        "   - `movieId` dijadikan sebagai indeks dari DataFrame.\n",
        "   - Dataset akhir ini dinamakan `movies_cb_enhanced`.\n"
      ],
      "metadata": {
        "id": "b-Zlyt6ZdOsz"
      }
    },
    {
      "cell_type": "code",
      "source": [
        "movies_cb_enhanced = movies_enhanced.drop_duplicates(subset='movieId').set_index('movieId')\n",
        "print(f\"Final DataFrame for Content-Based created with {len(movies_cb_enhanced)} movies.\")"
      ],
      "metadata": {
        "colab": {
          "base_uri": "https://localhost:8080/"
        },
        "id": "rt8G1I0YGii5",
        "outputId": "2b0a3322-9465-4794-f60a-8543772042c0"
      },
      "execution_count": 10,
      "outputs": [
        {
          "output_type": "stream",
          "name": "stdout",
          "text": [
            "Final DataFrame for Content-Based created with 9742 movies.\n"
          ]
        }
      ]
    },
    {
      "cell_type": "markdown",
      "source": [
        "## **3.5. TF-IDF Vectorization (DITAMBAHKAN SESUAI FEEDBACK)**"
      ],
      "metadata": {
        "id": "bYSZ3hGCGqVw"
      }
    },
    {
      "cell_type": "markdown",
      "source": [
        "### **5. TF-IDF (Term Frequency-Inverse Document Frequency)**\n",
        "tfif teknik penting dalam pemrosesan bahasa alami (NLP) dan information retrieval. Di sini, kita menggunakannya untuk mengubah fitur teks 'soup' menjadi vektor numerik.\n",
        "\n",
        "- Term Frequency (TF): Mengukur seberapa sering sebuah kata (genre atau tag) muncul dalam 'soup' sebuah film.\n",
        "- Inverse Document Frequency (IDF): Memberikan bobot lebih tinggi pada kata-kata yang jarang muncul di seluruh dataset (lebih spesifik) dan bobot lebih rendah pada kata-kata umum (stop words seperti 'the', 'is', 'a' akan diabaikan).\n",
        "\n",
        "Dengan TF-IDF, kita mendapatkan matriks di mana setiap baris adalah film dan setiap kolom adalah kata, dengan nilai yang menunjukkan pentingnya kata tersebut bagi film. Matriks ini menjadi dasar untuk menghitung Cosine Similarity pada tahap modeling"
      ],
      "metadata": {
        "id": "MSmQEqAed9Gi"
      }
    },
    {
      "cell_type": "code",
      "source": [
        "print(\"Applying TF-IDF Vectorization...\")\n",
        "tfidf_enhanced = TfidfVectorizer(stop_words='english')\n",
        "tfidf_matrix_enhanced = tfidf_enhanced.fit_transform(movies_cb_enhanced['soup'])\n",
        "print(f\"Shape of TF-IDF Matrix: {tfidf_matrix_enhanced.shape}\")\n"
      ],
      "metadata": {
        "colab": {
          "base_uri": "https://localhost:8080/"
        },
        "id": "6LlHH7DOGtA5",
        "outputId": "1c16fec7-8506-4c91-bad7-973277d754ef"
      },
      "execution_count": 11,
      "outputs": [
        {
          "output_type": "stream",
          "name": "stdout",
          "text": [
            "Applying TF-IDF Vectorization...\n",
            "Shape of TF-IDF Matrix: (9742, 1677)\n"
          ]
        }
      ]
    },
    {
      "cell_type": "markdown",
      "source": [
        "\n",
        "## **3.6. Persiapan untuk Collaborative Filtering (Surprise)**"
      ],
      "metadata": {
        "id": "FDF7YsURGxdJ"
      }
    },
    {
      "cell_type": "markdown",
      "source": [
        "Untuk Collaborative Filtering, kita akan menggunakan library scikit-surprise. Library ini memerlukan data dalam format spesifik. Kita membuat objek Reader untuk mendefinisikan skala rating (0.5 hingga 5.0, sesuai dataset MovieLens) dan kemudian memuat data userId, movieId, dan rating ke dalam objek Dataset Surprise."
      ],
      "metadata": {
        "id": "5JLbo84VeZVH"
      }
    },
    {
      "cell_type": "code",
      "source": [
        "\n",
        "print(\"Preparing data for Surprise...\")\n",
        "reader = Reader(rating_scale=(0.5, 5.0))\n",
        "data_surprise = Dataset.load_from_df(ratings[['userId', 'movieId', 'rating']], reader)"
      ],
      "metadata": {
        "colab": {
          "base_uri": "https://localhost:8080/"
        },
        "id": "pusJ0jvoGxMR",
        "outputId": "4bf14138-0a4f-4022-d363-012fee680a9e"
      },
      "execution_count": 12,
      "outputs": [
        {
          "output_type": "stream",
          "name": "stdout",
          "text": [
            "Preparing data for Surprise...\n"
          ]
        }
      ]
    },
    {
      "cell_type": "markdown",
      "source": [
        "\n",
        "\n",
        "## **3.7. Split Data untuk Collaborative Filtering (DITAMBAHKAN SESUAI FEEDBACK)**\n"
      ],
      "metadata": {
        "id": "_KSp0CRAG2z8"
      }
    },
    {
      "cell_type": "markdown",
      "source": [
        "Langkah krusial sebelum melatih model Collaborative Filtering adalah membagi data menjadi set pelatihan (training set) dan set pengujian (test set).\n",
        "\n",
        "- Training Set: Digunakan untuk melatih model (misalnya, SVD) dalam mempelajari pola rating pengguna.\n",
        "- Test Set: Digunakan untuk mengevaluasi seberapa baik model dapat memprediksi rating pada data yang belum pernah 'dilihat' sebelumnya.\n",
        "\n",
        "Kita menggunakan rasio 80% data untuk pelatihan dan 20% untuk pengujian. Pemisahan ini memungkinkan kita mengukur performa model secara objektif menggunakan metrik seperti RMSE dan MAE."
      ],
      "metadata": {
        "id": "JkFuwmwCeiPL"
      }
    },
    {
      "cell_type": "code",
      "source": [
        "print(\"Splitting data for Collaborative Filtering...\")\n",
        "trainset, testset = train_test_split(data_surprise, test_size=0.2, random_state=42)\n",
        "print(f\"Training set size: {trainset.n_ratings}\")\n",
        "print(f\"Test set size: {len(testset)}\")\n",
        "\n",
        "print(\"--- Data Preparation Complete ---\")\n"
      ],
      "metadata": {
        "colab": {
          "base_uri": "https://localhost:8080/"
        },
        "id": "H_icAFOQG2na",
        "outputId": "38eb2635-8f5a-4da8-9926-59c6783678a6"
      },
      "execution_count": 13,
      "outputs": [
        {
          "output_type": "stream",
          "name": "stdout",
          "text": [
            "Splitting data for Collaborative Filtering...\n",
            "Training set size: 80668\n",
            "Test set size: 20168\n",
            "--- Data Preparation Complete ---\n"
          ]
        }
      ]
    },
    {
      "cell_type": "markdown",
      "source": [
        "\n",
        "\n",
        "## **4. MODELING - CONTENT-BASED FILTERING**\n"
      ],
      "metadata": {
        "id": "HnDwkfIqG8jo"
      }
    },
    {
      "cell_type": "markdown",
      "source": [
        "Pada tahap ini, kita membangun model Content-Based Filtering. Pendekatan ini merekomendasikan film berdasarkan kesamaan konten (dalam kasus ini, genre dan tag) antara film. Kita akan menggunakan matriks TF-IDF yang telah dibuat pada tahap Data Preparation untuk menghitung kesamaan ini."
      ],
      "metadata": {
        "id": "D_cniAldYIGW"
      }
    },
    {
      "cell_type": "markdown",
      "source": [
        "\n",
        "## **4.1. Similarity Calculation (Cosine Similarity)**"
      ],
      "metadata": {
        "id": "OzH73D5IHEbi"
      }
    },
    {
      "cell_type": "markdown",
      "source": [
        "Setelah memiliki representasi vektor (dari TF-IDF) untuk setiap film, kita perlu mengukur seberapa mirip vektor-vektor tersebut satu sama lain. Kita menggunakan Cosine Similarity.\n",
        "\n"
      ],
      "metadata": {
        "id": "iQRMeBL_fDvN"
      }
    },
    {
      "cell_type": "code",
      "source": [
        "print(\"\\n--- Starting Content-Based Modeling ---\")\n",
        "\n",
        "cosine_sim_enhanced = cosine_similarity(tfidf_matrix_enhanced, tfidf_matrix_enhanced)\n",
        "print(\"Cosine Similarity Matrix calculated.\")"
      ],
      "metadata": {
        "colab": {
          "base_uri": "https://localhost:8080/"
        },
        "id": "KqkAWKHnHC8j",
        "outputId": "412c6dab-9a7f-4178-9168-337e1b506b67"
      },
      "execution_count": 14,
      "outputs": [
        {
          "output_type": "stream",
          "name": "stdout",
          "text": [
            "\n",
            "--- Starting Content-Based Modeling ---\n",
            "Cosine Similarity Matrix calculated.\n"
          ]
        }
      ]
    },
    {
      "cell_type": "markdown",
      "source": [
        "## **4.2. Membuat Mapping Judul ke Index**\n"
      ],
      "metadata": {
        "id": "DA2G3IrFHI0L"
      }
    },
    {
      "cell_type": "markdown",
      "source": [
        "Untuk memudahkan pembuatan fungsi rekomendasi, kita membuat sebuah mapping (menggunakan pd.Series) dari judul film ke movieId (yang merupakan index dari movies_cb_enhanced). Dengan mapping ini, kita bisa dengan mudah menemukan index film dalam similarity matrix hanya dengan mengetahui judulnya."
      ],
      "metadata": {
        "id": "xIL4ICpAfYQK"
      }
    },
    {
      "cell_type": "code",
      "source": [
        "indices_enhanced = pd.Series(movies_cb_enhanced.index, index=movies_cb_enhanced['title'])\n",
        "print(\"Title-to-Index mapping created.\")\n",
        "\n",
        "print(\"--- Content-Based Modeling Complete ---\")"
      ],
      "metadata": {
        "colab": {
          "base_uri": "https://localhost:8080/"
        },
        "id": "2wUlE9IpHK2c",
        "outputId": "c72d43c0-2dfd-4041-ba88-a7eb08324783"
      },
      "execution_count": 15,
      "outputs": [
        {
          "output_type": "stream",
          "name": "stdout",
          "text": [
            "Title-to-Index mapping created.\n",
            "--- Content-Based Modeling Complete ---\n"
          ]
        }
      ]
    },
    {
      "cell_type": "markdown",
      "source": [
        "\n",
        "## **5. MODELING - COLLABORATIVE FILTERING**\n"
      ],
      "metadata": {
        "id": "HOf_s2pmHNE7"
      }
    },
    {
      "cell_type": "markdown",
      "source": [
        "Sekarang kita beralih ke Collaborative Filtering (CF). Berbeda dengan CB, CF bekerja dengan menemukan pola dari interaksi pengguna-item (rating). Ide dasarnya adalah jika pengguna A memiliki selera yang mirip dengan pengguna B, maka film yang disukai pengguna B (tetapi belum ditonton A) kemungkinan besar akan disukai juga oleh A.\n",
        "\n",
        "Kita akan menggunakan SVD (Singular Value Decomposition), sebuah teknik Matrix Factorization yang populer, untuk mengimplementasikan CF. SVD akan mencoba menguraikan matriks rating pengguna-film menjadi faktor-faktor laten yang merepresentasikan selera pengguna dan karakteristik film."
      ],
      "metadata": {
        "id": "pFhkFK5Uffw1"
      }
    },
    {
      "cell_type": "markdown",
      "source": [
        "\n",
        "\n",
        "## **5.1. Melatih Model SVD**\n"
      ],
      "metadata": {
        "id": "ocOO0KTFHVeq"
      }
    },
    {
      "cell_type": "markdown",
      "source": [
        "Kita menggunakan data trainset (80% dari data rating) yang telah disiapkan sebelumnya untuk melatih model SVD. Parameter n_factors=50 menentukan jumlah faktor laten yang akan dicari oleh model. Proses fit() akan mengoptimalkan faktor-faktor ini berdasarkan rating yang ada di trainset."
      ],
      "metadata": {
        "id": "rcKxWEsLfjou"
      }
    },
    {
      "cell_type": "code",
      "source": [
        "print(\"\\n--- Starting Collaborative Filtering Modeling ---\")\n",
        "algo = SVD(n_factors=50, random_state=42)\n",
        "print(\"Training SVD model...\")\n",
        "algo.fit(trainset)\n",
        "\n"
      ],
      "metadata": {
        "colab": {
          "base_uri": "https://localhost:8080/"
        },
        "id": "4WwETnygHZyK",
        "outputId": "21b4be6c-7278-4c11-aa8f-f28936e21c94"
      },
      "execution_count": 16,
      "outputs": [
        {
          "output_type": "stream",
          "name": "stdout",
          "text": [
            "\n",
            "--- Starting Collaborative Filtering Modeling ---\n",
            "Training SVD model...\n"
          ]
        },
        {
          "output_type": "execute_result",
          "data": {
            "text/plain": [
              "<surprise.prediction_algorithms.matrix_factorization.SVD at 0x7b8ed5760250>"
            ]
          },
          "metadata": {},
          "execution_count": 16
        }
      ]
    },
    {
      "cell_type": "markdown",
      "source": [
        "## **5.2. Membuat Prediksi pada Test Set**\n"
      ],
      "metadata": {
        "id": "9Kcb21mwHcNr"
      }
    },
    {
      "cell_type": "markdown",
      "source": [
        "Setelah model dilatih, kita menggunakannya untuk membuat prediksi rating pada testset (20% data yang disisihkan). Hasil prediksi ini (predictions) berisi rating asli dan rating estimasi dari model. Data predictions ini akan digunakan pada tahap Evaluasi untuk menghitung metrik RMSE dan MAE, yang mengukur seberapa akurat prediksi model kita"
      ],
      "metadata": {
        "id": "xA1VZONCfnl7"
      }
    },
    {
      "cell_type": "code",
      "source": [
        "print(\"Making predictions on test set...\")\n",
        "predictions = algo.test(testset)\n",
        "\n",
        "print(\"--- Collaborative Filtering Modeling Complete ---\")"
      ],
      "metadata": {
        "colab": {
          "base_uri": "https://localhost:8080/"
        },
        "id": "ec27lZV-HeVq",
        "outputId": "a65587b7-6268-477e-b4b2-4942171e34ec"
      },
      "execution_count": 17,
      "outputs": [
        {
          "output_type": "stream",
          "name": "stdout",
          "text": [
            "Making predictions on test set...\n",
            "--- Collaborative Filtering Modeling Complete ---\n"
          ]
        }
      ]
    },
    {
      "cell_type": "markdown",
      "source": [
        "\n",
        "## **6. FUNGSI REKOMENDASI**\n"
      ],
      "metadata": {
        "id": "hqXfToLEHhbq"
      }
    },
    {
      "cell_type": "markdown",
      "source": [
        "Setelah model-model kita dilatih, langkah selanjutnya adalah membuat fungsi-fungsi praktis yang dapat digunakan untuk menghasilkan dan menampilkan rekomendasi film kepada pengguna. Kita akan membuat fungsi terpisah untuk Content-Based Filtering dan Collaborative Filtering."
      ],
      "metadata": {
        "id": "OGydFpNef96T"
      }
    },
    {
      "cell_type": "markdown",
      "source": [
        "## **6.1 Fungsi Content-Based Filtering**"
      ],
      "metadata": {
        "id": "G0HIA-zzYuWl"
      }
    },
    {
      "cell_type": "markdown",
      "source": [
        "Fungsi-fungsi ini akan menggunakan similarity matrix yang telah kita hitung untuk menemukan film-film yang paling mirip berdasarkan kontennya (genre dan tag)."
      ],
      "metadata": {
        "id": "w3mNPJvIgDSx"
      }
    },
    {
      "cell_type": "markdown",
      "source": [
        "Fungsi Utama Content-Based Recommendations\n",
        "Fungsi get_enhanced_content_based_recommendations ini adalah inti dari sistem CB. Ia menerima judul film sebagai input, mencari index-nya, mengambil skor kemiripan dari similarity matrix, mengurutkannya, dan mengembalikan N film teratas (dalam bentuk DataFrame) yang paling mirip, beserta skor kemiripannya. Fungsi ini juga menangani kasus jika judul film memiliki duplikat atau tidak ditemukan."
      ],
      "metadata": {
        "id": "5Te-8ThmY2ku"
      }
    },
    {
      "cell_type": "code",
      "source": [
        "def get_enhanced_content_based_recommendations(title, N=10):\n",
        "    \"\"\"\n",
        "    Fungsi inti untuk mendapatkan rekomendasi CB (mengembalikan DataFrame).\n",
        "    \"\"\"\n",
        "    try:\n",
        "        # Get the movie ID(s) for the title. This might return a single value or a Series.\n",
        "        movie_id_or_series = indices_enhanced[title]\n",
        "\n",
        "        # Ensure we get a single movie ID. If it's a Series, take the first one.\n",
        "        if isinstance(movie_id_or_series, pd.Series):\n",
        "            movie_id = movie_id_or_series.iloc[0] # Take the first movie ID found for the title\n",
        "        else:\n",
        "            movie_id = movie_id_or_series # It's already a single value\n",
        "\n",
        "        # Now use the single movie_id to get the location in the index\n",
        "        idx = movies_cb_enhanced.index.get_loc(movie_id)\n",
        "\n",
        "        sim_scores = list(enumerate(cosine_sim_enhanced[idx]))\n",
        "        sim_scores = sorted(sim_scores, key=lambda x: x[1], reverse=True)\n",
        "        sim_scores = sim_scores[1:N+1]\n",
        "        movie_indices = [i[0] for i in sim_scores]\n",
        "\n",
        "        # Get the recommended movie IDs from the movies_cb_enhanced index based on the indices\n",
        "        recommended_movie_ids = movies_cb_enhanced.iloc[movie_indices].index\n",
        "\n",
        "        # Select the rows from movies_cb_enhanced using the recommended movie IDs\n",
        "        recommendations = movies_cb_enhanced.loc[recommended_movie_ids].copy()\n",
        "\n",
        "        recommendations['Similarity Score'] = [score[1] for score in sim_scores]\n",
        "        return recommendations[['title', 'genres', 'Similarity Score']]\n",
        "    except KeyError:\n",
        "        return f\"Film dengan judul '{title}' tidak ditemukan.\""
      ],
      "metadata": {
        "id": "0p0IBUvBHj5t"
      },
      "execution_count": 18,
      "outputs": []
    },
    {
      "cell_type": "markdown",
      "source": [
        "Fungsi Display Content-Based Recommendations\n",
        "Untuk memudahkan pembacaan hasil, fungsi display_readable_recommendations ini mengambil judul film, memanggil fungsi get_enhanced_content_based_recommendations, dan kemudian menampilkan hasilnya dalam format tabel yang rapi, lengkap dengan ranking dan skor kemiripan yang diformat."
      ],
      "metadata": {
        "id": "-OrBtHByY360"
      }
    },
    {
      "cell_type": "code",
      "source": [
        "\n",
        "def display_readable_recommendations(title, N=5):\n",
        "    \"\"\"\n",
        "    Fungsi untuk menampilkan rekomendasi CB dalam format DataFrame yang mudah dibaca.\n",
        "    \"\"\"\n",
        "    print(\"-\" * 70)\n",
        "    print(f\"Rekomendasi Content-Based untuk '{title}':\")\n",
        "    print(\"-\" * 70)\n",
        "\n",
        "    recommendations_df = get_enhanced_content_based_recommendations(title, N=N)\n",
        "\n",
        "    if isinstance(recommendations_df, str):\n",
        "        print(recommendations_df)\n",
        "    else:\n",
        "        readable_df = recommendations_df.reset_index(drop=True)\n",
        "        readable_df.index = readable_df.index + 1\n",
        "        readable_df = readable_df.rename_axis('Rank').reset_index()\n",
        "        readable_df['Similarity Score'] = readable_df['Similarity Score'].map('{:,.3f}'.format)\n",
        "        print(readable_df.to_string(index=False))\n",
        "\n",
        "    print(\"-\" * 70)\n",
        "    print(\"\\n\")\n",
        "\n"
      ],
      "metadata": {
        "id": "cWttEjLBHqYT"
      },
      "execution_count": 19,
      "outputs": []
    },
    {
      "cell_type": "markdown",
      "source": [
        "## **6.2 Fungsi Collaborative Filtering**\n",
        "Fungsi-fungsi ini bertujuan untuk menghasilkan rekomendasi berdasarkan prediksi rating dari model SVD yang telah kita latih.\n",
        "\n",
        "(Catatan: Fungsi get_top_n_collaborative_recommendations di bawah ini bekerja dengan memproses daftar predictions yang dihasilkan dari algo.test(testset). Ini berguna untuk melihat rekomendasi untuk pengguna dan film yang ada di test set. Pendekatan alternatif yang disarankan sebelumnya adalah membuat fungsi yang memprediksi rating untuk semua film yang belum ditonton oleh pengguna tertentu untuk mendapatkan Top-N yang lebih komprehensif).\n",
        "\n",
        "Fungsi Top-N Collaborative Recommendations\n",
        "Fungsi get_top_n_collaborative_recommendations ini mengambil hasil prediksi dari algo.test() dan mengolahnya menjadi sebuah dictionary. Key dari dictionary ini adalah userId, dan value-nya adalah daftar film (movieId) beserta estimasi rating-nya, yang sudah diurutkan dari yang tertinggi."
      ],
      "metadata": {
        "id": "HgYSv2K1Y31d"
      }
    },
    {
      "cell_type": "code",
      "source": [
        "def get_top_n_collaborative_recommendations(predictions, n=10):\n",
        "    \"\"\"\n",
        "    Fungsi untuk mendapatkan top-N rekomendasi dari Collaborative Filtering\n",
        "    \"\"\"\n",
        "    # Kelompokkan prediksi berdasarkan user\n",
        "    top_n = defaultdict(list)\n",
        "    for uid, iid, true_r, est, _ in predictions:\n",
        "        top_n[uid].append((iid, est))\n",
        "\n",
        "    # Sort dan ambil top-N untuk setiap user\n",
        "    for uid, user_ratings in top_n.items():\n",
        "        user_ratings.sort(key=lambda x: x[1], reverse=True)\n",
        "        top_n[uid] = user_ratings[:n]\n",
        "\n",
        "    return top_n\n",
        "\n"
      ],
      "metadata": {
        "id": "4sAsJnLhHqaj"
      },
      "execution_count": 20,
      "outputs": []
    },
    {
      "cell_type": "markdown",
      "source": [
        "Fungsi display_collaborative_recommendations digunakan untuk menampilkan rekomendasi Top-N untuk pengguna tertentu dari dictionary yang dihasilkan oleh fungsi sebelumnya. Fungsi ini akan mencari judul film berdasarkan movieId dan menampilkannya dalam format tabel yang mudah dibaca, lengkap dengan ranking dan estimasi rating."
      ],
      "metadata": {
        "id": "EQEdk0VaggaR"
      }
    },
    {
      "cell_type": "code",
      "source": [
        "def display_collaborative_recommendations(user_id, top_n_dict, movies_df, N=5):\n",
        "    \"\"\"\n",
        "    Menampilkan top-N rekomendasi untuk user tertentu\n",
        "    \"\"\"\n",
        "    print(\"-\" * 70)\n",
        "    print(f\"Rekomendasi Collaborative Filtering untuk User {user_id}:\")\n",
        "    print(\"-\" * 70)\n",
        "\n",
        "    if user_id in top_n_dict:\n",
        "        recommendations = top_n_dict[user_id][:N]\n",
        "        print(f\"{'Rank':<5} {'Movie ID':<10} {'Predicted Rating':<15} {'Title'}\")\n",
        "        print(\"-\" * 70)\n",
        "\n",
        "        for i, (movie_id, pred_rating) in enumerate(recommendations, 1):\n",
        "            # Cari judul film\n",
        "            movie_title = movies_df[movies_df['movieId'] == movie_id]['title']\n",
        "            title = movie_title.iloc[0] if not movie_title.empty else \"Unknown Title\"\n",
        "            print(f\"{i:<5} {movie_id:<10} {pred_rating:<15.3f} {title}\")\n",
        "    else:\n",
        "        print(f\"User {user_id} tidak ditemukan dalam rekomendasi.\")\n",
        "\n",
        "    print(\"-\" * 70)\n",
        "    print(\"\\n\")"
      ],
      "metadata": {
        "id": "-uKXQHKNHqcu"
      },
      "execution_count": 21,
      "outputs": []
    },
    {
      "cell_type": "markdown",
      "source": [
        "\n",
        "\n",
        "## **7. EVALUASI MODEL**\n"
      ],
      "metadata": {
        "id": "6sg45_RFHzRJ"
      }
    },
    {
      "cell_type": "markdown",
      "source": [
        "Tahap evaluasi sangat penting untuk memahami seberapa baik performa model-model yang telah kita bangun. Karena kedua pendekatan (Collaborative dan Content-Based) memiliki cara kerja yang berbeda, kita akan menggunakan metrik evaluasi yang berbeda pula untuk masing-masing."
      ],
      "metadata": {
        "id": "tvb_y1pZg57X"
      }
    },
    {
      "cell_type": "markdown",
      "source": [
        "## **7.1. Evaluasi Collaborative Filtering**"
      ],
      "metadata": {
        "id": "MGA79YvXH3kJ"
      }
    },
    {
      "cell_type": "markdown",
      "source": [
        "Untuk Collaborative Filtering (SVD), yang tujuannya adalah memprediksi rating, kita menggunakan metrik berbasis error untuk mengukur akurasi prediksi:\n",
        "\n",
        "RMSE (Root Mean Square Error): Mengukur standar deviasi dari error prediksi. Metrik ini memberikan bobot lebih pada error yang besar. Semakin kecil nilainya, semakin baik.\n",
        "MAE (Mean Absolute Error): Mengukur rata-rata selisih absolut antara prediksi dan rating asli. Metrik ini lebih robust terhadap outlier. Semakin kecil nilainya, semakin baik.\n",
        "Kita menghitung metrik ini menggunakan data predictions yang dihasilkan dari algo.test(testset)."
      ],
      "metadata": {
        "id": "0d3NRb8Ag9kM"
      }
    },
    {
      "cell_type": "code",
      "source": [
        "print(\"\\n--- Model Evaluation ---\")\n",
        "\n",
        "\n",
        "print(\"Evaluating Collaborative Filtering (SVD)...\")\n",
        "rmse_val = accuracy.rmse(predictions, verbose=False)\n",
        "mae_val = accuracy.mae(predictions, verbose=False)\n",
        "\n",
        "print(f\"RMSE: {rmse_val:.4f}\")\n",
        "print(f\"MAE: {mae_val:.4f}\")"
      ],
      "metadata": {
        "colab": {
          "base_uri": "https://localhost:8080/"
        },
        "id": "JErjBRSBH83J",
        "outputId": "6e57d598-5c77-47a9-a5bf-9eca85dad4f5"
      },
      "execution_count": 22,
      "outputs": [
        {
          "output_type": "stream",
          "name": "stdout",
          "text": [
            "\n",
            "--- Model Evaluation ---\n",
            "Evaluating Collaborative Filtering (SVD)...\n",
            "RMSE: 0.8775\n",
            "MAE: 0.6742\n"
          ]
        }
      ]
    },
    {
      "cell_type": "code",
      "source": [
        "# Visualisasi Evaluasi CF\n",
        "metrics = ['RMSE', 'MAE']\n",
        "values = [rmse_val, mae_val]\n",
        "\n",
        "plt.figure(figsize=(6, 4))\n",
        "bars = plt.bar(metrics, values, color=['steelblue', 'coral'])\n",
        "plt.title('Evaluation Metrics for SVD (Collaborative Filtering)')\n",
        "plt.ylabel('Error')\n",
        "plt.ylim(0, max(values)*1.2)\n",
        "plt.grid(axis='y', linestyle='--', alpha=0.7)\n",
        "\n",
        "for bar in bars:\n",
        "    height = bar.get_height()\n",
        "    plt.text(bar.get_x() + bar.get_width()/2., height + 0.01,\n",
        "             f'{height:.4f}', ha='center', va='bottom')\n",
        "\n",
        "plt.tight_layout()\n",
        "plt.show()"
      ],
      "metadata": {
        "colab": {
          "base_uri": "https://localhost:8080/",
          "height": 407
        },
        "id": "VcdJLCT8IAWT",
        "outputId": "959e6e22-a989-4d9f-cb88-d0c1901952f5"
      },
      "execution_count": 23,
      "outputs": [
        {
          "output_type": "display_data",
          "data": {
            "text/plain": [
              "<Figure size 600x400 with 1 Axes>"
            ],
            "image/png": "[encoded data removed]"
          },
          "metadata": {}
        }
      ]
    },
    {
      "cell_type": "markdown",
      "source": [
        "## **7.2. Evaluasi Content-Based Filtering - Precision@K (DITAMBAHKAN SESUAI FEEDBACK)**"
      ],
      "metadata": {
        "id": "YPhqRg0EID85"
      }
    },
    {
      "cell_type": "markdown",
      "source": [
        "Untuk Content-Based Filtering, yang tujuannya adalah merekomendasikan daftar item (Top-N), kita tidak bisa menggunakan RMSE/MAE. Sebagai gantinya, kita menggunakan metrik berbasis relevansi seperti Precision@K.\n",
        "\n",
        "- Definisi Precision@K: Mengukur proporsi item yang direkomendasikan dalam K item teratas yang benar-benar relevan bagi pengguna.\n",
        "- Implementasi di Sini: Karena kita tidak memiliki data relevansi eksplisit, kita membuat simulasi/proxy:\n",
        "  1. Kita mengambil sample data rating.\n",
        "  2. Untuk setiap pengguna dalam sample, kita anggap film dengan rating tinggi (>= 4.0) sebagai film yang \"relevan\".\n",
        "  3. Kita ambil satu film relevan sebagai input (query) untuk sistem CB kita.\n",
        "  4. Kita lihat berapa banyak dari K film yang direkomendasikan oleh CB yang juga termasuk dalam daftar film \"relevan\" pengguna tersebut.\n",
        "  5. Kita hitung rata-rata presisi ini untuk semua pengguna dalam sample.\n",
        "- Tujuan: Memberikan gambaran seberapa sering rekomendasi CB \"tepat sasaran\" berdasarkan rating pengguna."
      ],
      "metadata": {
        "id": "j5Mb0e1ghDx8"
      }
    },
    {
      "cell_type": "code",
      "source": [
        "print(\"\\nEvaluating Content-Based Filtering...\")\n",
        "\n",
        "def calculate_precision_at_k(test_user_items, recommendations, k=5):\n",
        "    \"\"\"\n",
        "    Menghitung Precision@K untuk Content-Based Filtering\n",
        "    \"\"\"\n",
        "    precisions = []\n",
        "\n",
        "    for user_id, user_items in test_user_items.items():\n",
        "        if len(user_items) == 0:\n",
        "            continue\n",
        "\n",
        "        # Simulasi: ambil film terakhir yang dirating tinggi sebagai query\n",
        "        highly_rated_items = [item for item, rating in user_items if rating >= 4.0]\n",
        "        if not highly_rated_items:\n",
        "            continue\n",
        "\n",
        "        query_item = highly_rated_items[0]  # Ambil salah satu film yang dirating tinggi\n",
        "\n",
        "        # Cari judul film query\n",
        "        query_title = movies[movies['movieId'] == query_item]['title']\n",
        "        if query_title.empty:\n",
        "            continue\n",
        "        query_title = query_title.iloc[0]\n",
        "\n",
        "        # Dapatkan rekomendasi\n",
        "        recs = get_enhanced_content_based_recommendations(query_title, N=k)\n",
        "        if isinstance(recs, str):  # Film tidak ditemukan\n",
        "            continue\n",
        "\n",
        "        # Hitung precision\n",
        "        recommended_items = []\n",
        "        for _, row in recs.iterrows():\n",
        "            movie_id = movies[movies['title'] == row['title']]['movieId']\n",
        "            if not movie_id.empty:\n",
        "                recommended_items.append(movie_id.iloc[0])\n",
        "\n",
        "        # Hitung berapa rekomendasi yang relevan (ada di user_items dengan rating tinggi)\n",
        "        relevant_items = set([item for item, rating in user_items if rating >= 4.0])\n",
        "        recommended_set = set(recommended_items)\n",
        "\n",
        "        if len(recommended_set) > 0:\n",
        "            precision = len(relevant_items.intersection(recommended_set)) / len(recommended_set)\n",
        "            precisions.append(precision)\n",
        "\n",
        "    return np.mean(precisions) if precisions else 0.0"
      ],
      "metadata": {
        "colab": {
          "base_uri": "https://localhost:8080/"
        },
        "id": "BoKqoxt6IDoB",
        "outputId": "77cfa95e-804d-4cd1-9419-6691910e9d3a"
      },
      "execution_count": 24,
      "outputs": [
        {
          "output_type": "stream",
          "name": "stdout",
          "text": [
            "\n",
            "Evaluating Content-Based Filtering...\n"
          ]
        }
      ]
    },
    {
      "cell_type": "code",
      "source": [
        "\n",
        "# Persiapkan data test untuk evaluasi Content-Based\n",
        "test_user_items = defaultdict(list)\n",
        "for _, row in ratings.sample(1000, random_state=42).iterrows():  # Sample untuk efisiensi\n",
        "    test_user_items[row['userId']].append((row['movieId'], row['rating']))\n",
        "\n",
        "precision_at_5 = calculate_precision_at_k(test_user_items, None, k=5)\n",
        "print(f\"Content-Based Filtering Precision@5: {precision_at_5:.4f}\")"
      ],
      "metadata": {
        "colab": {
          "base_uri": "https://localhost:8080/"
        },
        "id": "EtKh_5-DIM2Z",
        "outputId": "2a2f337a-eec8-494b-a2de-353938aa2709"
      },
      "execution_count": 25,
      "outputs": [
        {
          "output_type": "stream",
          "name": "stdout",
          "text": [
            "Content-Based Filtering Precision@5: 0.0243\n"
          ]
        }
      ]
    },
    {
      "cell_type": "markdown",
      "source": [
        "\n",
        "## **8. CONTOH PENGGUNAAN & HASIL**\n"
      ],
      "metadata": {
        "id": "Dnr4iPzKIyvI"
      }
    },
    {
      "cell_type": "markdown",
      "source": [
        "Bagian ini menunjukkan bagaimana fungsi rekomendasi yang telah kita buat dapat digunakan untuk menghasilkan rekomendasi nyata untuk pengguna atau berdasarkan film tertentu."
      ],
      "metadata": {
        "id": "5ejgyp78h1_R"
      }
    },
    {
      "cell_type": "markdown",
      "source": [
        "\n",
        "## **8.1. Content-Based Recommendation**"
      ],
      "metadata": {
        "id": "Xb6PBgqAI5pC"
      }
    },
    {
      "cell_type": "markdown",
      "source": [
        "Berikut adalah contoh rekomendasi Content-Based untuk film \"Toy Story (1995)\". Sistem akan mencari 5 film lain yang memiliki genre dan tag paling mirip."
      ],
      "metadata": {
        "id": "aMeT5vrfh5e6"
      }
    },
    {
      "cell_type": "code",
      "source": [
        "\n",
        "\n",
        "print(\"\\n--- Generating Examples ---\")\n",
        "\n",
        "display_readable_recommendations(\"Toy Story (1995)\", N=5)\n"
      ],
      "metadata": {
        "colab": {
          "base_uri": "https://localhost:8080/"
        },
        "id": "rnEV1IPjI3zh",
        "outputId": "e4f12a2d-f5ca-4d29-d7ff-f2082d4b8dd8"
      },
      "execution_count": 26,
      "outputs": [
        {
          "output_type": "stream",
          "name": "stdout",
          "text": [
            "\n",
            "--- Generating Examples ---\n",
            "----------------------------------------------------------------------\n",
            "Rekomendasi Content-Based untuk 'Toy Story (1995)':\n",
            "----------------------------------------------------------------------\n",
            " Rank                                          title                                      genres Similarity Score\n",
            "    1                           Bug's Life, A (1998)         Adventure|Animation|Children|Comedy            0.862\n",
            "    2                             Toy Story 2 (1999) Adventure|Animation|Children|Comedy|Fantasy            0.644\n",
            "    3               Guardians of the Galaxy 2 (2017)                     Action|Adventure|Sci-Fi            0.368\n",
            "    4                                    Antz (1998) Adventure|Animation|Children|Comedy|Fantasy            0.358\n",
            "    5 Adventures of Rocky and Bullwinkle, The (2000) Adventure|Animation|Children|Comedy|Fantasy            0.358\n",
            "----------------------------------------------------------------------\n",
            "\n",
            "\n"
          ]
        }
      ]
    },
    {
      "cell_type": "markdown",
      "source": [
        "## **8.2. Collaborative Filtering Recommendation (DITAMBAHKAN SESUAI FEEDBACK)**\n"
      ],
      "metadata": {
        "id": "ZIDypnShI9hR"
      }
    },
    {
      "cell_type": "markdown",
      "source": [
        "Di sini, kita menampilkan rekomendasi Collaborative Filtering Top-5 untuk beberapa pengguna sampel. Rekomendasi ini didasarkan pada prediksi rating tertinggi untuk film-film yang ada di testset (berdasarkan fungsi get_top_n_collaborative_recommendations)."
      ],
      "metadata": {
        "id": "AOJ7LMhTh9rI"
      }
    },
    {
      "cell_type": "code",
      "source": [
        "print(\"Generating Collaborative Filtering recommendations...\")\n",
        "top_n_recommendations = get_top_n_collaborative_recommendations(predictions, n=10)\n",
        "\n",
        "\n",
        "# Tampilkan rekomendasi untuk beberapa user\n",
        "sample_users = list(top_n_recommendations.keys())[:3]\n",
        "for user_id in sample_users:\n",
        "    display_collaborative_recommendations(user_id, top_n_recommendations, movies, N=5)\n",
        "\n"
      ],
      "metadata": {
        "colab": {
          "base_uri": "https://localhost:8080/"
        },
        "id": "nVWZyQ_dI9SK",
        "outputId": "ad647892-e3ed-44b8-bb5f-52562a20fe5b"
      },
      "execution_count": 27,
      "outputs": [
        {
          "output_type": "stream",
          "name": "stdout",
          "text": [
            "Generating Collaborative Filtering recommendations...\n",
            "----------------------------------------------------------------------\n",
            "Rekomendasi Collaborative Filtering untuk User 140:\n",
            "----------------------------------------------------------------------\n",
            "Rank  Movie ID   Predicted Rating Title\n",
            "----------------------------------------------------------------------\n",
            "1     48516      4.168           Departed, The (2006)\n",
            "2     953        4.166           It's a Wonderful Life (1946)\n",
            "3     2067       4.113           Doctor Zhivago (1965)\n",
            "4     914        4.094           My Fair Lady (1964)\n",
            "5     1242       3.975           Glory (1989)\n",
            "----------------------------------------------------------------------\n",
            "\n",
            "\n",
            "----------------------------------------------------------------------\n",
            "Rekomendasi Collaborative Filtering untuk User 603:\n",
            "----------------------------------------------------------------------\n",
            "Rank  Movie ID   Predicted Rating Title\n",
            "----------------------------------------------------------------------\n",
            "1     296        4.783           Pulp Fiction (1994)\n",
            "2     1270       4.659           Back to the Future (1985)\n",
            "3     29         4.606           City of Lost Children, The (Cité des enfants perdus, La) (1995)\n",
            "4     1197       4.437           Princess Bride, The (1987)\n",
            "5     1221       4.407           Godfather: Part II, The (1974)\n",
            "----------------------------------------------------------------------\n",
            "\n",
            "\n",
            "----------------------------------------------------------------------\n",
            "Rekomendasi Collaborative Filtering untuk User 438:\n",
            "----------------------------------------------------------------------\n",
            "Rank  Movie ID   Predicted Rating Title\n",
            "----------------------------------------------------------------------\n",
            "1     1196       4.386           Star Wars: Episode V - The Empire Strikes Back (1980)\n",
            "2     4993       4.284           Lord of the Rings: The Fellowship of the Ring, The (2001)\n",
            "3     44191      4.113           V for Vendetta (2006)\n",
            "4     1732       4.066           Big Lebowski, The (1998)\n",
            "5     5902       4.064           Adaptation (2002)\n",
            "----------------------------------------------------------------------\n",
            "\n",
            "\n"
          ]
        }
      ]
    },
    {
      "cell_type": "markdown",
      "source": [
        "\n",
        "## **8.3. Prediksi Rating Spesifik (Collaborative Filtering)**"
      ],
      "metadata": {
        "id": "Tc-pa0DZJHVi"
      }
    },
    {
      "cell_type": "markdown",
      "source": [
        "Selain memberikan daftar rekomendasi, model CF (SVD) juga dapat digunakan untuk memprediksi rating yang mungkin diberikan oleh seorang pengguna untuk film tertentu yang belum ia tonton. Ini berguna untuk memberikan gambaran seberapa besar kemungkinan pengguna akan menyukai film tersebut."
      ],
      "metadata": {
        "id": "aF6ZLq-viFMb"
      }
    },
    {
      "cell_type": "code",
      "source": [
        "\n",
        "print(\"--- Prediksi Rating Spesifik ---\")\n",
        "user_id_test = 1\n",
        "movie_id_toy_story = 1\n",
        "movie_id_jumanji = 2\n",
        "\n",
        "title_toy_story = movies[movies['movieId'] == movie_id_toy_story]['title'].iloc[0]\n",
        "title_jumanji = movies[movies['movieId'] == movie_id_jumanji]['title'].iloc[0]\n",
        "\n",
        "prediction_toy_story = algo.predict(uid=user_id_test, iid=movie_id_toy_story)\n",
        "prediction_jumanji = algo.predict(uid=user_id_test, iid=movie_id_jumanji)\n",
        "\n",
        "print(f\"--- Prediksi untuk User {user_id_test} pada '{title_toy_story}' ---\")\n",
        "print(f\"Estimasi Rating: {prediction_toy_story.est:.3f}\")\n",
        "\n",
        "print(f\"\\n--- Prediksi untuk User {user_id_test} pada '{title_jumanji}' ---\")\n",
        "print(f\"Estimasi Rating: {prediction_jumanji.est:.3f}\")\n",
        "\n",
        "print(\"\\n=== SUBMISSION COMPLETE ===\")"
      ],
      "metadata": {
        "colab": {
          "base_uri": "https://localhost:8080/"
        },
        "id": "tvmkSh4OFsvf",
        "outputId": "a7afdb17-9525-4a0e-abc8-38928693e590"
      },
      "execution_count": 28,
      "outputs": [
        {
          "output_type": "stream",
          "name": "stdout",
          "text": [
            "--- Prediksi Rating Spesifik ---\n",
            "--- Prediksi untuk User 1 pada 'Toy Story (1995)' ---\n",
            "Estimasi Rating: 4.635\n",
            "\n",
            "--- Prediksi untuk User 1 pada 'Jumanji (1995)' ---\n",
            "Estimasi Rating: 4.096\n",
            "\n",
            "=== SUBMISSION COMPLETE ===\n"
          ]
        }
      ]
    },
    {
      "cell_type": "code",
      "source": [],
      "metadata": {
        "id": "xWSu6CPKJKy5"
      },
      "execution_count": null,
      "outputs": []
    }
  ]
}